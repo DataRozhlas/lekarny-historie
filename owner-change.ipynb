{
 "cells": [
  {
   "cell_type": "code",
   "execution_count": 21,
   "metadata": {
    "collapsed": true
   },
   "outputs": [],
   "source": [
    "import arcpy\n",
    "import pandas as pd\n",
    "import numpy as np"
   ]
  },
  {
   "cell_type": "code",
   "execution_count": 2,
   "metadata": {
    "collapsed": true
   },
   "outputs": [],
   "source": [
    "arcpy.env.workspace = 'geo/lekarny.gdb'\n",
    "arcpy.env.overwriteOutput = True"
   ]
  },
  {
   "cell_type": "code",
   "execution_count": 48,
   "metadata": {
    "collapsed": false
   },
   "outputs": [],
   "source": [
    "#99, 07, 15\n",
    "buff = {}\n",
    "\n",
    "cursor = arcpy.da.SearchCursor('lek_99_07_15_pnt', ['SHAPE@X', 'SHAPE@Y', 'addr', 'NAZEV', 'ZNACKA', 'rok'])\n",
    "for row in cursor:\n",
    "    addr = row[2]\n",
    "    nazev = row[3]\n",
    "    znacka = row[4]\n",
    "    rok = str(row[5])\n",
    "    x = row[0]\n",
    "    y = row[1]\n",
    "    \n",
    "    if(addr not in buff):\n",
    "        buff[addr] = {'x': x, 'y': y,'nazev_1999': np.nan, 'nazev_2007': np.nan, 'nazev_2015': np.nan, 'znacka_1999': np.nan, 'znacka_2007': np.nan, 'znacka_2015': np.nan, 'zmena': np.nan}\n",
    "    buff[addr]['nazev_' + rok] = nazev\n",
    "    buff[addr]['znacka_' + rok] = znacka\n",
    "    "
   ]
  },
  {
   "cell_type": "code",
   "execution_count": 49,
   "metadata": {
    "collapsed": false
   },
   "outputs": [],
   "source": [
    "lekarny = pd.DataFrame.from_dict(buff, orient='index')\n",
    "#drop krachlych\n",
    "lekarny.dropna(subset=['nazev_2015'], inplace=True)\n",
    "\n",
    "lekarny.reset_index().rename(columns={'index': 'adresa'}, inplace=True)"
   ]
  },
  {
   "cell_type": "code",
   "execution_count": 74,
   "metadata": {
    "collapsed": true
   },
   "outputs": [],
   "source": [
    "def zmena(r99, r07, r15):\n",
    "    if ((r15 != r07) & (r07 == r07)):\n",
    "        return 'y'\n",
    "    elif((r15 != r99) & (r99 == r99)):\n",
    "        return 'y07'\n",
    "    else:\n",
    "        return 'n'"
   ]
  },
  {
   "cell_type": "code",
   "execution_count": 72,
   "metadata": {
    "collapsed": false
   },
   "outputs": [],
   "source": [
    "lekarny['zmena'] = lekarny.apply(lambda row: zmena(row['znacka_1999'], row['znacka_2007'], row['znacka_2015']), axis=1)"
   ]
  },
  {
   "cell_type": "code",
   "execution_count": 85,
   "metadata": {
    "collapsed": false
   },
   "outputs": [],
   "source": [
    "lekarny.adresa = lekarny.adresa.apply(lambda x: x.lstrip(', '))"
   ]
  },
  {
   "cell_type": "code",
   "execution_count": 86,
   "metadata": {
    "collapsed": false
   },
   "outputs": [],
   "source": [
    "lekarny.to_csv('upravena-data/mapa_zmeny.csv', encoding='utf-8', index=False)"
   ]
  }
 ],
 "metadata": {
  "kernelspec": {
   "display_name": "Python 3",
   "language": "python",
   "name": "python3"
  },
  "language_info": {
   "codemirror_mode": {
    "name": "ipython",
    "version": 3
   },
   "file_extension": ".py",
   "mimetype": "text/x-python",
   "name": "python",
   "nbconvert_exporter": "python",
   "pygments_lexer": "ipython3",
   "version": "3.4.3"
  }
 },
 "nbformat": 4,
 "nbformat_minor": 0
}
