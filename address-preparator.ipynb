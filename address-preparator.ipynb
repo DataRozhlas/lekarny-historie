{
 "cells": [
  {
   "cell_type": "code",
   "execution_count": 7,
   "metadata": {
    "collapsed": true
   },
   "outputs": [],
   "source": [
    "import arcpy\n",
    "import numpy as np\n",
    "import googlemaps"
   ]
  },
  {
   "cell_type": "code",
   "execution_count": 8,
   "metadata": {
    "collapsed": true
   },
   "outputs": [],
   "source": [
    "arcpy.env.workspace = 'data/lekarny.gdb'\n",
    "arcpy.env.overwriteOutput = True"
   ]
  },
  {
   "cell_type": "code",
   "execution_count": 5,
   "metadata": {
    "collapsed": false
   },
   "outputs": [],
   "source": [
    "cursor = arcpy.UpdateCursor('lek_99_15')\n",
    "row = cursor.next()\n",
    "while row:\n",
    "    ulice = row.getValue('ULICE')\n",
    "    psc = row.getValue('PSC')\n",
    "    mesto = row.getValue('MESTO')\n",
    "    \n",
    "    if (mesto.startswith('Praha')):\n",
    "        mesto = mesto.split(' ')[0]\n",
    "    \n",
    "    if (ulice == '    '):\n",
    "        ulice = mesto.split(' ')[-1]\n",
    "        mesto = mesto.replace(' ' + ulice, '')\n",
    "        \n",
    "    addr = ulice.split('/')[0] + ', ' + mesto + ' ' + psc    \n",
    "    row.setValue('addr', addr)\n",
    "    cursor.updateRow(row)\n",
    "    row = cursor.next()"
   ]
  },
  {
   "cell_type": "code",
   "execution_count": 9,
   "metadata": {
    "collapsed": true
   },
   "outputs": [],
   "source": [
    "#geocoder\n",
    "gmaps = googlemaps.Client(key='XXX')"
   ]
  },
  {
   "cell_type": "code",
   "execution_count": 10,
   "metadata": {
    "collapsed": false
   },
   "outputs": [
    {
     "name": "stdout",
     "output_type": "stream",
     "text": [
      "Husova třída 105, Slaný 27401, Czech Republic\n",
      "čd. 25, Žichovice 34162, Czech Republic\n",
      "Americká tř. 18, Plzeň 30138, Czech Republic\n",
      "Karlovarská tř. 30, Plzeň 30166, Czech Republic\n",
      "Sladkovského tř. 68, Plzeň 30142, Czech Republic\n",
      "Malinovského náměstí 551, Slavkov u Brna 68401, Czech Republic\n",
      "Poliklinika dolu Lazy , Orlová - Lazy 73512, Czech Republic\n",
      "tř.1.máje 788, Litovel 78401, Czech Republic\n",
      "nám. 1.máje 108, Dolní Benešov 74722, Czech Republic\n",
      "tř. Míru 223, Vyšší Brod 38273, Czech Republic\n",
      "tř. 1. máje 788, Litovel 78401, Czech Republic\n",
      "Husova třída 105, Slaný 27401, Czech Republic\n",
      "Americká tř. 11, Plzeň 30100, Czech Republic\n",
      "Americká tř. 64, Plzeň 30100, Czech Republic\n",
      "Karlovarská tř. 30, Plzeň 30100, Czech Republic\n",
      "Nám. 1. máje 108, Dolní Benešov 74722, Czech Republic\n",
      "Malinovského náměstí 551, Slavkov u Brna 68401, Czech Republic\n",
      "JE Dukovany, Dukovany 67550, Czech Republic\n",
      "Hraničná 2, Kraslice-Hraničná 35802, Czech Republic\n",
      "areál Chemopetr.a.s.- polikl., Litvínov 43670, Czech Republic\n",
      "Horní třída 1457, Ostrava - Hrabůvka 70030, Czech Republic\n",
      "Rožany 150, Rožany 40776, Czech Republic\n",
      "Husova tř. 105, Slaný 27401, Czech Republic\n",
      "tř. Legií 2772, Varnsdorf 40747, Czech Republic\n",
      "Olomoucká 90, OC Olympia, Velký Týnec 77700, Czech Republic\n"
     ]
    }
   ],
   "source": [
    "cursor = arcpy.UpdateCursor('lek_pnt_unmatched')\n",
    "row = cursor.next()\n",
    "while row:\n",
    "    addr = row.getValue('addr') + ', Czech Republic'\n",
    "    if ((row.getValue('lat') == 0) | (row.getValue('lat') is None)):\n",
    "        try:\n",
    "            result = gmaps.geocode(addr)[0]['geometry']['location']\n",
    "            row.setValue('lat', result['lat'])\n",
    "            row.setValue('lng', result['lng'])\n",
    "            cursor.updateRow(row)\n",
    "            row = cursor.next()\n",
    "        except:\n",
    "            print(addr)\n",
    "            row.setValue('lat', 0)\n",
    "            row.setValue('lng', 0)\n",
    "            cursor.updateRow(row)\n",
    "            row = cursor.next()\n",
    "    else:\n",
    "        row = cursor.next()"
   ]
  }
 ],
 "metadata": {
  "kernelspec": {
   "display_name": "Python 3",
   "language": "python",
   "name": "python3"
  },
  "language_info": {
   "codemirror_mode": {
    "name": "ipython",
    "version": 3
   },
   "file_extension": ".py",
   "mimetype": "text/x-python",
   "name": "python",
   "nbconvert_exporter": "python",
   "pygments_lexer": "ipython3",
   "version": "3.4.3"
  }
 },
 "nbformat": 4,
 "nbformat_minor": 0
}
